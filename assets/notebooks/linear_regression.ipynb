{
 "cells": [
  {
   "cell_type": "code",
   "execution_count": 1,
   "metadata": {
    "slideshow": {
     "slide_type": "fragment"
    }
   },
   "outputs": [],
   "source": [
    "import random\n",
    "import numpy as np\n",
    "import torch\n",
    "import matplotlib.pyplot as plt"
   ]
  },
  {
   "cell_type": "code",
   "execution_count": 2,
   "metadata": {
    "slideshow": {
     "slide_type": "fragment"
    }
   },
   "outputs": [],
   "source": [
    "# Generate Data Points\n",
    "mu = 1.5\n",
    "sigma = 0.2\n",
    "X_Data = np.linspace(0, 10, 20) + (sigma*np.random.randn(20) + mu)\n",
    "X_Data = X_Data.reshape(20, 1)\n",
    "Y_Data = np.linspace(0, 10, 20) + (sigma*np.random.randn(20) + mu)\n",
    "Y_Data = Y_Data.reshape(20, 1)"
   ]
  },
  {
   "cell_type": "code",
   "execution_count": 3,
   "metadata": {
    "slideshow": {
     "slide_type": "subslide"
    }
   },
   "outputs": [
    {
     "data": {
      "image/png": "[encoded data removed]",
      "text/plain": [
       "<Figure size 432x288 with 1 Axes>"
      ]
     },
     "metadata": {
      "needs_background": "light"
     },
     "output_type": "display_data"
    }
   ],
   "source": [
    "# Display Data Points\n",
    "plt.scatter(X_Data, Y_Data)\n",
    "plt.xlabel('X coordinate')\n",
    "plt.ylabel('y coordinate')\n",
    "plt.title('Data Points')\n",
    "plt.show()"
   ]
  },
  {
   "cell_type": "code",
   "execution_count": 4,
   "metadata": {
    "slideshow": {
     "slide_type": "subslide"
    }
   },
   "outputs": [],
   "source": [
    "# random initialization\n",
    "m = torch.tensor([np.random.randn()], requires_grad=True)\n",
    "c = torch.tensor([np.random.randn()], requires_grad=True)"
   ]
  },
  {
   "cell_type": "code",
   "execution_count": 5,
   "metadata": {
    "slideshow": {
     "slide_type": "subslide"
    }
   },
   "outputs": [
    {
     "name": "stdout",
     "output_type": "stream",
     "text": [
      "Epoch: 0 | Loss: 0.8867034662299589\n",
      "Epoch: 1 | Loss: 0.3853381415334044\n",
      "Epoch: 2 | Loss: 0.04768345232815454\n",
      "Epoch: 3 | Loss: 0.02360759406684393\n",
      "Epoch: 4 | Loss: 0.00018932674416679708\n"
     ]
    }
   ],
   "source": [
    "eta = 0.001     # learning rate (step-size)\n",
    "indices_list = list(range(len(X_Data)))\n",
    "loss_history = []\n",
    "\n",
    "for epoch in range(5):\n",
    "    random.shuffle(indices_list)  # shuffle indices before every epoch\n",
    "    for step in indices_list:     # loop through indices\n",
    "        # Converting to Tensor\n",
    "        x = torch.from_numpy(X_Data[step])\n",
    "        y = torch.from_numpy(Y_Data[step])\n",
    "        \n",
    "        # Forward\n",
    "        y_pred = m*x + c\n",
    "        \n",
    "        # Compute Loss\n",
    "        #loss = torch.sum((y_pred - y)**2)/(2*y.numel())\n",
    "        loss = ((y_pred - y)**2)/2\n",
    "        \n",
    "        # Backward\n",
    "        loss.backward()\n",
    "        \n",
    "        # Update\n",
    "        m.data = m.data - eta * m.grad.data\n",
    "        c.data = c.data - eta * c.grad.data\n",
    "        \n",
    "        m.grad.data.zero_()\n",
    "        c.grad.data.zero_()\n",
    "        \n",
    "        loss_history.append(loss.item())\n",
    "    print('Epoch:', epoch, '| Loss:', loss_history[-1])"
   ]
  },
  {
   "cell_type": "code",
   "execution_count": 6,
   "metadata": {
    "slideshow": {
     "slide_type": "subslide"
    }
   },
   "outputs": [
    {
     "data": {
      "image/png": "[encoded data removed]",
      "text/plain": [
       "<Figure size 432x288 with 1 Axes>"
      ]
     },
     "metadata": {
      "needs_background": "light"
     },
     "output_type": "display_data"
    }
   ],
   "source": [
    "# Plot Loss History\n",
    "axis = np.arange(5*len(X_Data))\n",
    "plt.plot(axis, loss_history)\n",
    "plt.xlabel('Steps')\n",
    "plt.ylabel('Loss')\n",
    "plt.show()"
   ]
  },
  {
   "cell_type": "code",
   "execution_count": 7,
   "metadata": {
    "slideshow": {
     "slide_type": "subslide"
    }
   },
   "outputs": [
    {
     "name": "stdout",
     "output_type": "stream",
     "text": [
      "tensor([1.0244]) tensor([-0.3332])\n"
     ]
    }
   ],
   "source": [
    "print(m.data, c.data)"
   ]
  },
  {
   "cell_type": "code",
   "execution_count": 8,
   "metadata": {
    "slideshow": {
     "slide_type": "subslide"
    }
   },
   "outputs": [],
   "source": [
    "# Here we will run over the complete data to see the line of best fit, learned by the network\n",
    "# (Although one could use just two data points to draw a line)\n",
    "pred_list = []\n",
    "with torch.no_grad():\n",
    "    for step in range(len(X_Data)):\n",
    "        x = torch.from_numpy(X_Data[step])\n",
    "        y = torch.from_numpy(Y_Data[step])\n",
    "\n",
    "        # Forward\n",
    "        y_pred = m*x + c\n",
    "\n",
    "        pred_list.append(y_pred.item())"
   ]
  },
  {
   "cell_type": "code",
   "execution_count": 9,
   "metadata": {
    "slideshow": {
     "slide_type": "subslide"
    }
   },
   "outputs": [
    {
     "data": {
      "image/png": "[encoded data removed]",
      "text/plain": [
       "<Figure size 432x288 with 1 Axes>"
      ]
     },
     "metadata": {
      "needs_background": "light"
     },
     "output_type": "display_data"
    }
   ],
   "source": [
    "# Display Data Points\n",
    "plt.scatter(X_Data, Y_Data)\n",
    "plt.xlabel('X coordinate')\n",
    "plt.ylabel('y coordinate')\n",
    "plt.title('Data Points')\n",
    "\n",
    "# Display Prediction\n",
    "plt.plot(X_Data, pred_list)\n",
    "plt.show()"
   ]
  }
 ],
 "metadata": {
  "celltoolbar": "Slideshow",
  "kernelspec": {
   "display_name": "Python 3",
   "language": "python",
   "name": "python3"
  },
  "language_info": {
   "codemirror_mode": {
    "name": "ipython",
    "version": 3
   },
   "file_extension": ".py",
   "mimetype": "text/x-python",
   "name": "python",
   "nbconvert_exporter": "python",
   "pygments_lexer": "ipython3",
   "version": "3.7.6"
  }
 },
 "nbformat": 4,
 "nbformat_minor": 2
}
